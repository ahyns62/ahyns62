{
 "cells": [
  {
   "cell_type": "code",
   "execution_count": 6,
   "id": "cd7e0d7e",
   "metadata": {},
   "outputs": [
    {
     "name": "stdout",
     "output_type": "stream",
     "text": [
      "Hello\n"
     ]
    }
   ],
   "source": [
    "print(\"Hello\")"
   ]
  },
  {
   "cell_type": "code",
   "execution_count": 7,
   "id": "0be89621",
   "metadata": {},
   "outputs": [
    {
     "name": "stdout",
     "output_type": "stream",
     "text": [
      "Hello World\n"
     ]
    }
   ],
   "source": [
    "print(\"Hello World\")"
   ]
  },
  {
   "cell_type": "code",
   "execution_count": 8,
   "id": "c70a6a61",
   "metadata": {},
   "outputs": [
    {
     "name": "stdout",
     "output_type": "stream",
     "text": [
      "Hello\n",
      "World\n"
     ]
    }
   ],
   "source": [
    "print(\"Hello\")\n",
    "print(\"World\")"
   ]
  },
  {
   "cell_type": "code",
   "execution_count": 10,
   "id": "07348238",
   "metadata": {},
   "outputs": [
    {
     "name": "stdout",
     "output_type": "stream",
     "text": [
      "'Hello'\n"
     ]
    }
   ],
   "source": [
    "print(\"'Hello'\")"
   ]
  },
  {
   "cell_type": "code",
   "execution_count": 12,
   "id": "be01d45a",
   "metadata": {},
   "outputs": [
    {
     "name": "stdout",
     "output_type": "stream",
     "text": [
      "\"Hello World\"\n"
     ]
    }
   ],
   "source": [
    "print('\"Hello World\"')"
   ]
  },
  {
   "cell_type": "code",
   "execution_count": 17,
   "id": "01a38b35",
   "metadata": {},
   "outputs": [
    {
     "name": "stdout",
     "output_type": "stream",
     "text": [
      "\"!@#$%^&*()'\n"
     ]
    }
   ],
   "source": [
    "print(\"\\\"!@#$%^&*()'\")"
   ]
  },
  {
   "cell_type": "code",
   "execution_count": 23,
   "id": "96054c9a",
   "metadata": {},
   "outputs": [
    {
     "name": "stdout",
     "output_type": "stream",
     "text": [
      "\"C:\\Download\\'hello'.py\"\n"
     ]
    }
   ],
   "source": [
    "print('\"C:\\\\Download\\\\\\'hello\\'.py\"')"
   ]
  },
  {
   "cell_type": "code",
   "execution_count": 25,
   "id": "3edc445f",
   "metadata": {},
   "outputs": [
    {
     "name": "stdout",
     "output_type": "stream",
     "text": [
      "print(\"Hello\\nWorld\")\n"
     ]
    }
   ],
   "source": [
    "print(\"print(\\\"Hello\\\\nWorld\\\")\")"
   ]
  }
 ],
 "metadata": {
  "kernelspec": {
   "display_name": "Python 3",
   "language": "python",
   "name": "python3"
  },
  "language_info": {
   "codemirror_mode": {
    "name": "ipython",
    "version": 3
   },
   "file_extension": ".py",
   "mimetype": "text/x-python",
   "name": "python",
   "nbconvert_exporter": "python",
   "pygments_lexer": "ipython3",
   "version": "3.8.8"
  }
 },
 "nbformat": 4,
 "nbformat_minor": 5
}
